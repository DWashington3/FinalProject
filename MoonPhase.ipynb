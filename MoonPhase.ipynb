{
 "cells": [
  {
   "cell_type": "code",
   "execution_count": 1,
   "id": "b7604d2b",
   "metadata": {},
   "outputs": [],
   "source": [
    "import pandas as pd"
   ]
  },
  {
   "cell_type": "code",
   "execution_count": 2,
   "id": "1541f6de",
   "metadata": {},
   "outputs": [],
   "source": [
    "moon_phase_data = \"C:/Users/szieg/Repositories/FinalProject/MoonPhase/moonphasesbyDateRESHAPEData.csv\""
   ]
  },
  {
   "cell_type": "code",
   "execution_count": 3,
   "id": "3c82c037",
   "metadata": {},
   "outputs": [
    {
     "data": {
      "text/html": [
       "<div>\n",
       "<style scoped>\n",
       "    .dataframe tbody tr th:only-of-type {\n",
       "        vertical-align: middle;\n",
       "    }\n",
       "\n",
       "    .dataframe tbody tr th {\n",
       "        vertical-align: top;\n",
       "    }\n",
       "\n",
       "    .dataframe thead th {\n",
       "        text-align: right;\n",
       "    }\n",
       "</style>\n",
       "<table border=\"1\" class=\"dataframe\">\n",
       "  <thead>\n",
       "    <tr style=\"text-align: right;\">\n",
       "      <th></th>\n",
       "      <th>date</th>\n",
       "      <th>month</th>\n",
       "      <th>day</th>\n",
       "      <th>year</th>\n",
       "      <th>fullDate</th>\n",
       "      <th>DOW</th>\n",
       "      <th>time</th>\n",
       "      <th>moonPhase</th>\n",
       "    </tr>\n",
       "  </thead>\n",
       "  <tbody>\n",
       "    <tr>\n",
       "      <th>0</th>\n",
       "      <td>16-Jan</td>\n",
       "      <td>1</td>\n",
       "      <td>16</td>\n",
       "      <td>2018</td>\n",
       "      <td>1/16/2018</td>\n",
       "      <td>Tuesday</td>\n",
       "      <td>9:17 PM</td>\n",
       "      <td>New  Moon</td>\n",
       "    </tr>\n",
       "    <tr>\n",
       "      <th>1</th>\n",
       "      <td>15-Feb</td>\n",
       "      <td>2</td>\n",
       "      <td>15</td>\n",
       "      <td>2018</td>\n",
       "      <td>2/15/2018</td>\n",
       "      <td>Thursday</td>\n",
       "      <td>4:05 PM</td>\n",
       "      <td>New  Moon</td>\n",
       "    </tr>\n",
       "    <tr>\n",
       "      <th>2</th>\n",
       "      <td>17-Mar</td>\n",
       "      <td>3</td>\n",
       "      <td>17</td>\n",
       "      <td>2018</td>\n",
       "      <td>3/17/2018</td>\n",
       "      <td>Saturday</td>\n",
       "      <td>9:11 AM</td>\n",
       "      <td>New  Moon</td>\n",
       "    </tr>\n",
       "    <tr>\n",
       "      <th>3</th>\n",
       "      <td>15-Apr</td>\n",
       "      <td>4</td>\n",
       "      <td>15</td>\n",
       "      <td>2018</td>\n",
       "      <td>4/15/2018</td>\n",
       "      <td>Sunday</td>\n",
       "      <td>9:57 PM</td>\n",
       "      <td>New  Moon</td>\n",
       "    </tr>\n",
       "    <tr>\n",
       "      <th>4</th>\n",
       "      <td>15-May</td>\n",
       "      <td>5</td>\n",
       "      <td>15</td>\n",
       "      <td>2018</td>\n",
       "      <td>5/15/2018</td>\n",
       "      <td>Tuesday</td>\n",
       "      <td>7:47 AM</td>\n",
       "      <td>New  Moon</td>\n",
       "    </tr>\n",
       "  </tbody>\n",
       "</table>\n",
       "</div>"
      ],
      "text/plain": [
       "    date   month  day  year   fullDate       DOW    time    moonPhase\n",
       "0  16-Jan      1   16  2018  1/16/2018   Tuesday  9:17 PM  New  Moon \n",
       "1  15-Feb      2   15  2018  2/15/2018  Thursday  4:05 PM  New  Moon \n",
       "2  17-Mar      3   17  2018  3/17/2018  Saturday  9:11 AM  New  Moon \n",
       "3  15-Apr      4   15  2018  4/15/2018    Sunday  9:57 PM  New  Moon \n",
       "4  15-May      5   15  2018  5/15/2018   Tuesday  7:47 AM  New  Moon "
      ]
     },
     "execution_count": 3,
     "metadata": {},
     "output_type": "execute_result"
    }
   ],
   "source": [
    "moon_phase_df = pd.read_csv(moon_phase_data)\n",
    "moon_phase_df.head(5)"
   ]
  }
 ],
 "metadata": {
  "kernelspec": {
   "display_name": "PythonData",
   "language": "python",
   "name": "pythondata"
  },
  "language_info": {
   "codemirror_mode": {
    "name": "ipython",
    "version": 3
   },
   "file_extension": ".py",
   "mimetype": "text/x-python",
   "name": "python",
   "nbconvert_exporter": "python",
   "pygments_lexer": "ipython3",
   "version": "3.7.10"
  }
 },
 "nbformat": 4,
 "nbformat_minor": 5
}
