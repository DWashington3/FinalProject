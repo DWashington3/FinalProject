{
 "cells": [
  {
   "cell_type": "code",
   "execution_count": 5,
   "id": "dd919414",
   "metadata": {},
   "outputs": [],
   "source": [
    "import pandas as pd\n",
    "import yellowbrick as yb\n",
    "import matplotlib.pyplot as plt\n",
    "import csv\n",
    "import os\n",
    "from yellowbrick.features.rankd import Rank2D\n",
    "from yellowbrick.features.radviz import RadViz\n",
    "from yellowbrick.features.pcoords import ParallelCoordinates\n",
    "from sklearn.ensemble import RandomForestClassifier\n",
    "from yellowbrick.model_selection import FeatureImportances\n",
    "import pandas as pd"
   ]
  },
  {
   "cell_type": "code",
   "execution_count": 6,
   "id": "b617e0ad",
   "metadata": {},
   "outputs": [
    {
     "data": {
      "text/html": [
       "<div>\n",
       "<style scoped>\n",
       "    .dataframe tbody tr th:only-of-type {\n",
       "        vertical-align: middle;\n",
       "    }\n",
       "\n",
       "    .dataframe tbody tr th {\n",
       "        vertical-align: top;\n",
       "    }\n",
       "\n",
       "    .dataframe thead th {\n",
       "        text-align: right;\n",
       "    }\n",
       "</style>\n",
       "<table border=\"1\" class=\"dataframe\">\n",
       "  <thead>\n",
       "    <tr style=\"text-align: right;\">\n",
       "      <th></th>\n",
       "      <th>Unnamed: 0</th>\n",
       "      <th>ID</th>\n",
       "      <th>CFS</th>\n",
       "      <th>CFS_Type</th>\n",
       "      <th>Classification</th>\n",
       "      <th>offenseDate</th>\n",
       "      <th>offenseHour</th>\n",
       "      <th>offenseDOW</th>\n",
       "      <th>reportDate</th>\n",
       "      <th>reportHour</th>\n",
       "      <th>...</th>\n",
       "      <th>longitude</th>\n",
       "      <th>location</th>\n",
       "      <th>date</th>\n",
       "      <th>month</th>\n",
       "      <th>day</th>\n",
       "      <th>year</th>\n",
       "      <th>fullDate</th>\n",
       "      <th>DOW</th>\n",
       "      <th>time</th>\n",
       "      <th>moonPhase</th>\n",
       "    </tr>\n",
       "  </thead>\n",
       "  <tbody>\n",
       "    <tr>\n",
       "      <th>0</th>\n",
       "      <td>0</td>\n",
       "      <td>221009267</td>\n",
       "      <td>Domestic Aggravated Battery</td>\n",
       "      <td>Battery</td>\n",
       "      <td>Person</td>\n",
       "      <td>7/4/2021</td>\n",
       "      <td>21</td>\n",
       "      <td>Sunday</td>\n",
       "      <td>7/4/2021 22:37</td>\n",
       "      <td>22</td>\n",
       "      <td>...</td>\n",
       "      <td>-82.326069</td>\n",
       "      <td>POINT (-82.326069 29.688534000000004)</td>\n",
       "      <td>NaN</td>\n",
       "      <td>NaN</td>\n",
       "      <td>NaN</td>\n",
       "      <td>NaN</td>\n",
       "      <td>NaN</td>\n",
       "      <td>NaN</td>\n",
       "      <td>NaN</td>\n",
       "      <td>NaN</td>\n",
       "    </tr>\n",
       "    <tr>\n",
       "      <th>1</th>\n",
       "      <td>1</td>\n",
       "      <td>221009608</td>\n",
       "      <td>Domestic Aggravated Battery</td>\n",
       "      <td>Battery</td>\n",
       "      <td>Person</td>\n",
       "      <td>7/11/2021</td>\n",
       "      <td>22</td>\n",
       "      <td>Sunday</td>\n",
       "      <td>7/11/2021 22:55</td>\n",
       "      <td>22</td>\n",
       "      <td>...</td>\n",
       "      <td>-82.387148</td>\n",
       "      <td>POINT (-82.387148 29.632687000000004)</td>\n",
       "      <td>NaN</td>\n",
       "      <td>NaN</td>\n",
       "      <td>NaN</td>\n",
       "      <td>NaN</td>\n",
       "      <td>NaN</td>\n",
       "      <td>NaN</td>\n",
       "      <td>NaN</td>\n",
       "      <td>NaN</td>\n",
       "    </tr>\n",
       "    <tr>\n",
       "      <th>2</th>\n",
       "      <td>2</td>\n",
       "      <td>221009391</td>\n",
       "      <td>Domestic Aggravated Battery</td>\n",
       "      <td>Battery</td>\n",
       "      <td>Person</td>\n",
       "      <td>7/7/2021</td>\n",
       "      <td>19</td>\n",
       "      <td>Wednesday</td>\n",
       "      <td>7/7/2021 19:13</td>\n",
       "      <td>19</td>\n",
       "      <td>...</td>\n",
       "      <td>-82.299390</td>\n",
       "      <td>POINT (-82.29939 29.640249)</td>\n",
       "      <td>NaN</td>\n",
       "      <td>NaN</td>\n",
       "      <td>NaN</td>\n",
       "      <td>NaN</td>\n",
       "      <td>NaN</td>\n",
       "      <td>NaN</td>\n",
       "      <td>NaN</td>\n",
       "      <td>NaN</td>\n",
       "    </tr>\n",
       "    <tr>\n",
       "      <th>3</th>\n",
       "      <td>3</td>\n",
       "      <td>221009308</td>\n",
       "      <td>Domestic Aggravated Battery</td>\n",
       "      <td>Battery</td>\n",
       "      <td>Person</td>\n",
       "      <td>7/6/2021</td>\n",
       "      <td>7</td>\n",
       "      <td>Tuesday</td>\n",
       "      <td>7/6/2021 7:27</td>\n",
       "      <td>7</td>\n",
       "      <td>...</td>\n",
       "      <td>-82.398242</td>\n",
       "      <td>POINT (-82.398242 29.641625)</td>\n",
       "      <td>NaN</td>\n",
       "      <td>NaN</td>\n",
       "      <td>NaN</td>\n",
       "      <td>NaN</td>\n",
       "      <td>NaN</td>\n",
       "      <td>NaN</td>\n",
       "      <td>NaN</td>\n",
       "      <td>NaN</td>\n",
       "    </tr>\n",
       "    <tr>\n",
       "      <th>4</th>\n",
       "      <td>4</td>\n",
       "      <td>221011388</td>\n",
       "      <td>Domestic Aggravated Battery</td>\n",
       "      <td>Battery</td>\n",
       "      <td>Person</td>\n",
       "      <td>8/16/2021</td>\n",
       "      <td>17</td>\n",
       "      <td>Monday</td>\n",
       "      <td>8/16/2021 17:26</td>\n",
       "      <td>17</td>\n",
       "      <td>...</td>\n",
       "      <td>-82.326069</td>\n",
       "      <td>POINT (-82.326069 29.688534000000004)</td>\n",
       "      <td>NaN</td>\n",
       "      <td>NaN</td>\n",
       "      <td>NaN</td>\n",
       "      <td>NaN</td>\n",
       "      <td>NaN</td>\n",
       "      <td>NaN</td>\n",
       "      <td>NaN</td>\n",
       "      <td>NaN</td>\n",
       "    </tr>\n",
       "  </tbody>\n",
       "</table>\n",
       "<p>5 rows × 25 columns</p>\n",
       "</div>"
      ],
      "text/plain": [
       "   Unnamed: 0         ID                          CFS CFS_Type Classification  \\\n",
       "0           0  221009267  Domestic Aggravated Battery  Battery         Person   \n",
       "1           1  221009608  Domestic Aggravated Battery  Battery         Person   \n",
       "2           2  221009391  Domestic Aggravated Battery  Battery         Person   \n",
       "3           3  221009308  Domestic Aggravated Battery  Battery         Person   \n",
       "4           4  221011388  Domestic Aggravated Battery  Battery         Person   \n",
       "\n",
       "  offenseDate  offenseHour offenseDOW       reportDate  reportHour  ...  \\\n",
       "0    7/4/2021           21     Sunday   7/4/2021 22:37          22  ...   \n",
       "1   7/11/2021           22     Sunday  7/11/2021 22:55          22  ...   \n",
       "2    7/7/2021           19  Wednesday   7/7/2021 19:13          19  ...   \n",
       "3    7/6/2021            7    Tuesday    7/6/2021 7:27           7  ...   \n",
       "4   8/16/2021           17     Monday  8/16/2021 17:26          17  ...   \n",
       "\n",
       "   longitude                               location date  month  day  year  \\\n",
       "0 -82.326069  POINT (-82.326069 29.688534000000004)   NaN   NaN  NaN   NaN   \n",
       "1 -82.387148  POINT (-82.387148 29.632687000000004)   NaN   NaN  NaN   NaN   \n",
       "2 -82.299390            POINT (-82.29939 29.640249)   NaN   NaN  NaN   NaN   \n",
       "3 -82.398242           POINT (-82.398242 29.641625)   NaN   NaN  NaN   NaN   \n",
       "4 -82.326069  POINT (-82.326069 29.688534000000004)   NaN   NaN  NaN   NaN   \n",
       "\n",
       "  fullDate  DOW  time   moonPhase  \n",
       "0      NaN  NaN    NaN        NaN  \n",
       "1      NaN  NaN    NaN        NaN  \n",
       "2      NaN  NaN    NaN        NaN  \n",
       "3      NaN  NaN    NaN        NaN  \n",
       "4      NaN  NaN    NaN        NaN  \n",
       "\n",
       "[5 rows x 25 columns]"
      ]
     },
     "execution_count": 6,
     "metadata": {},
     "output_type": "execute_result"
    }
   ],
   "source": [
    "gainesville_total = os.path.join(\"Dashboard\",\"TransformGainesville_CrimesALL.csv\")\n",
    "data = pd.read_csv(gainesville_total)\n",
    "data.head()"
   ]
  },
  {
   "cell_type": "code",
   "execution_count": 7,
   "id": "54dbc596",
   "metadata": {},
   "outputs": [
    {
     "data": {
      "text/plain": [
       "Index(['Unnamed: 0', 'ID', 'CFS', 'CFS_Type', 'Classification', 'offenseDate',\n",
       "       'offenseHour', 'offenseDOW', 'reportDate', 'reportHour', 'reportDOW',\n",
       "       'city', 'state', 'address', 'latitude', 'longitude', 'location',\n",
       "       'date ', 'month', 'day', 'year', 'fullDate', 'DOW', 'time ',\n",
       "       'moonPhase'],\n",
       "      dtype='object')"
      ]
     },
     "execution_count": 7,
     "metadata": {},
     "output_type": "execute_result"
    }
   ],
   "source": [
    "data.columns"
   ]
  },
  {
   "cell_type": "code",
   "execution_count": 8,
   "id": "97e6429a",
   "metadata": {},
   "outputs": [],
   "source": [
    "used_columns= ['ID', 'CFS', 'CFS_Type', 'Classification', 'offenseDate', 'offenseHour',\n",
    "       'offenseDOW', 'reportDate', 'reportHour', 'reportDOW', 'city', 'state',\n",
    "       'address', 'latitude', 'longitude', 'location', 'date ', 'month', 'day',\n",
    "       'year', 'fullDate', 'DOW', 'time ', 'moonPhase']"
   ]
  },
  {
   "cell_type": "code",
   "execution_count": null,
   "id": "f3fedab8",
   "metadata": {},
   "outputs": [],
   "source": [
    "#data.df=data.drop[unused_columns,axis=1]"
   ]
  },
  {
   "cell_type": "code",
   "execution_count": 14,
   "id": "323cbfd0",
   "metadata": {},
   "outputs": [
    {
     "name": "stdout",
     "output_type": "stream",
     "text": [
      "(44873, 1682)\n"
     ]
    }
   ],
   "source": [
    "#Covnert Strings to FLoats\n",
    "\n",
    "# Use get_dummies() to create variables for text features.\n",
    "X = pd.get_dummies(data, columns=[\"Classification\", \"offenseDate\",\"CFS\",\"CFS_Type\"])\n",
    "print(X.shape)\n",
    "\n",
    "\n",
    "#Y = pd.get_dummies(columns=[used_columns])"
   ]
  },
  {
   "cell_type": "code",
   "execution_count": 9,
   "id": "595c5bc3",
   "metadata": {},
   "outputs": [],
   "source": [
    "# Specify the features of interest\n",
    "features = ['ID', 'CFS', 'CFS_Type', 'Classification', 'offenseDate', 'offenseHour',\n",
    "       'offenseDOW', 'reportDate', 'reportHour', 'reportDOW', 'city', 'state',\n",
    "       'address', 'latitude', 'longitude', 'location', 'date ', 'month', 'day',\n",
    "       'year', 'fullDate', 'DOW', 'time ', 'moonPhase'\n",
    "]"
   ]
  },
  {
   "cell_type": "code",
   "execution_count": null,
   "id": "b435ba34",
   "metadata": {},
   "outputs": [],
   "source": [
    "# Extract the numpy arrays from the data frame\n",
    "X = data[features].values\n",
    "y = data.values\n"
   ]
  },
  {
   "cell_type": "code",
   "execution_count": null,
   "id": "1a0b8608",
   "metadata": {},
   "outputs": [],
   "source": [
    "# Load the classification data set\n",
    "#X, y = "
   ]
  },
  {
   "cell_type": "code",
   "execution_count": null,
   "id": "052c0e6d",
   "metadata": {},
   "outputs": [],
   "source": [
    "viz = FeatureImportances(model)\n",
    "viz.fit(X, y)\n",
    "viz.show()"
   ]
  },
  {
   "cell_type": "code",
   "execution_count": null,
   "id": "08a4be76",
   "metadata": {},
   "outputs": [],
   "source": []
  },
  {
   "cell_type": "code",
   "execution_count": null,
   "id": "12473490",
   "metadata": {},
   "outputs": [],
   "source": []
  }
 ],
 "metadata": {
  "kernelspec": {
   "display_name": "Python 3 (ipykernel)",
   "language": "python",
   "name": "python3"
  },
  "language_info": {
   "codemirror_mode": {
    "name": "ipython",
    "version": 3
   },
   "file_extension": ".py",
   "mimetype": "text/x-python",
   "name": "python",
   "nbconvert_exporter": "python",
   "pygments_lexer": "ipython3",
   "version": "3.7.11"
  }
 },
 "nbformat": 4,
 "nbformat_minor": 5
}
